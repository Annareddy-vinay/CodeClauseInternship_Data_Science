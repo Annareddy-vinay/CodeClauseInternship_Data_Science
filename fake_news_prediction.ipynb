{
  "cells": [
    {
      "cell_type": "markdown",
      "metadata": {
        "id": "view-in-github",
        "colab_type": "text"
      },
      "source": [
        "<a href=\"https://colab.research.google.com/github/Annareddy-vinay/CodeClauseInternship_Data_Science/blob/main/fake_news_prediction.ipynb\" target=\"_parent\"><img src=\"https://colab.research.google.com/assets/colab-badge.svg\" alt=\"Open In Colab\"/></a>"
      ]
    },
    {
      "cell_type": "code",
      "execution_count": 107,
      "metadata": {
        "id": "IduzhyquKd4j"
      },
      "outputs": [],
      "source": [
        "#import necessary libraries\n",
        "import numpy as np\n",
        "import pandas as pd\n",
        "from nltk.corpus import stopwords\n",
        "from sklearn.model_selection import train_test_split\n",
        "from sklearn.linear_model import LogisticRegression\n",
        "from sklearn.metrics import accuracy_score"
      ]
    },
    {
      "cell_type": "code",
      "execution_count": 108,
      "metadata": {
        "colab": {
          "base_uri": "https://localhost:8080/"
        },
        "id": "RVVFnuQNQLfe",
        "outputId": "8e299dd8-0782-45ae-96eb-675737bf5fec"
      },
      "outputs": [
        {
          "output_type": "stream",
          "name": "stderr",
          "text": [
            "[nltk_data] Downloading package stopwords to /root/nltk_data...\n",
            "[nltk_data]   Package stopwords is already up-to-date!\n"
          ]
        },
        {
          "output_type": "execute_result",
          "data": {
            "text/plain": [
              "True"
            ]
          },
          "metadata": {},
          "execution_count": 108
        }
      ],
      "source": [
        "#import stop words from nltk\n",
        "import nltk\n",
        "nltk.download('stopwords')"
      ]
    },
    {
      "cell_type": "code",
      "execution_count": 109,
      "metadata": {
        "colab": {
          "base_uri": "https://localhost:8080/"
        },
        "id": "hZ9oklQRQWg2",
        "outputId": "eec40e8f-eb19-4bd8-a9f8-9a4db273202a"
      },
      "outputs": [
        {
          "output_type": "stream",
          "name": "stdout",
          "text": [
            "['i', 'me', 'my', 'myself', 'we', 'our', 'ours', 'ourselves', 'you', \"you're\", \"you've\", \"you'll\", \"you'd\", 'your', 'yours', 'yourself', 'yourselves', 'he', 'him', 'his', 'himself', 'she', \"she's\", 'her', 'hers', 'herself', 'it', \"it's\", 'its', 'itself', 'they', 'them', 'their', 'theirs', 'themselves', 'what', 'which', 'who', 'whom', 'this', 'that', \"that'll\", 'these', 'those', 'am', 'is', 'are', 'was', 'were', 'be', 'been', 'being', 'have', 'has', 'had', 'having', 'do', 'does', 'did', 'doing', 'a', 'an', 'the', 'and', 'but', 'if', 'or', 'because', 'as', 'until', 'while', 'of', 'at', 'by', 'for', 'with', 'about', 'against', 'between', 'into', 'through', 'during', 'before', 'after', 'above', 'below', 'to', 'from', 'up', 'down', 'in', 'out', 'on', 'off', 'over', 'under', 'again', 'further', 'then', 'once', 'here', 'there', 'when', 'where', 'why', 'how', 'all', 'any', 'both', 'each', 'few', 'more', 'most', 'other', 'some', 'such', 'no', 'nor', 'not', 'only', 'own', 'same', 'so', 'than', 'too', 'very', 's', 't', 'can', 'will', 'just', 'don', \"don't\", 'should', \"should've\", 'now', 'd', 'll', 'm', 'o', 're', 've', 'y', 'ain', 'aren', \"aren't\", 'couldn', \"couldn't\", 'didn', \"didn't\", 'doesn', \"doesn't\", 'hadn', \"hadn't\", 'hasn', \"hasn't\", 'haven', \"haven't\", 'isn', \"isn't\", 'ma', 'mightn', \"mightn't\", 'mustn', \"mustn't\", 'needn', \"needn't\", 'shan', \"shan't\", 'shouldn', \"shouldn't\", 'wasn', \"wasn't\", 'weren', \"weren't\", 'won', \"won't\", 'wouldn', \"wouldn't\"]\n"
          ]
        }
      ],
      "source": [
        "print(stopwords.words('english'))"
      ]
    },
    {
      "cell_type": "code",
      "execution_count": 110,
      "metadata": {
        "id": "1plxi1cCQ8yn"
      },
      "outputs": [],
      "source": [
        "#load csv file\n",
        "data=pd.read_csv(\"/content/train.csv\")"
      ]
    },
    {
      "cell_type": "code",
      "execution_count": 111,
      "metadata": {
        "colab": {
          "base_uri": "https://localhost:8080/",
          "height": 206
        },
        "id": "9GX1Fty4R_gS",
        "outputId": "d391a014-3fc2-4f6b-d4e8-1ea1b6524e6f"
      },
      "outputs": [
        {
          "output_type": "execute_result",
          "data": {
            "text/plain": [
              "   id                                              title              author  \\\n",
              "0   0  House Dem Aide: We Didn’t Even See Comey’s Let...       Darrell Lucus   \n",
              "1   1  FLYNN: Hillary Clinton, Big Woman on Campus - ...     Daniel J. Flynn   \n",
              "2   2                  Why the Truth Might Get You Fired  Consortiumnews.com   \n",
              "3   3  15 Civilians Killed In Single US Airstrike Hav...     Jessica Purkiss   \n",
              "4   4  Iranian woman jailed for fictional unpublished...      Howard Portnoy   \n",
              "\n",
              "                                                text  label  \n",
              "0  House Dem Aide: We Didn’t Even See Comey’s Let...      1  \n",
              "1  Ever get the feeling your life circles the rou...      0  \n",
              "2  Why the Truth Might Get You Fired October 29, ...      1  \n",
              "3  Videos 15 Civilians Killed In Single US Airstr...      1  \n",
              "4  Print \\nAn Iranian woman has been sentenced to...      1  "
            ],
            "text/html": [
              "\n",
              "  <div id=\"df-9bd42357-579d-4949-a5e3-dbc658f889c7\" class=\"colab-df-container\">\n",
              "    <div>\n",
              "<style scoped>\n",
              "    .dataframe tbody tr th:only-of-type {\n",
              "        vertical-align: middle;\n",
              "    }\n",
              "\n",
              "    .dataframe tbody tr th {\n",
              "        vertical-align: top;\n",
              "    }\n",
              "\n",
              "    .dataframe thead th {\n",
              "        text-align: right;\n",
              "    }\n",
              "</style>\n",
              "<table border=\"1\" class=\"dataframe\">\n",
              "  <thead>\n",
              "    <tr style=\"text-align: right;\">\n",
              "      <th></th>\n",
              "      <th>id</th>\n",
              "      <th>title</th>\n",
              "      <th>author</th>\n",
              "      <th>text</th>\n",
              "      <th>label</th>\n",
              "    </tr>\n",
              "  </thead>\n",
              "  <tbody>\n",
              "    <tr>\n",
              "      <th>0</th>\n",
              "      <td>0</td>\n",
              "      <td>House Dem Aide: We Didn’t Even See Comey’s Let...</td>\n",
              "      <td>Darrell Lucus</td>\n",
              "      <td>House Dem Aide: We Didn’t Even See Comey’s Let...</td>\n",
              "      <td>1</td>\n",
              "    </tr>\n",
              "    <tr>\n",
              "      <th>1</th>\n",
              "      <td>1</td>\n",
              "      <td>FLYNN: Hillary Clinton, Big Woman on Campus - ...</td>\n",
              "      <td>Daniel J. Flynn</td>\n",
              "      <td>Ever get the feeling your life circles the rou...</td>\n",
              "      <td>0</td>\n",
              "    </tr>\n",
              "    <tr>\n",
              "      <th>2</th>\n",
              "      <td>2</td>\n",
              "      <td>Why the Truth Might Get You Fired</td>\n",
              "      <td>Consortiumnews.com</td>\n",
              "      <td>Why the Truth Might Get You Fired October 29, ...</td>\n",
              "      <td>1</td>\n",
              "    </tr>\n",
              "    <tr>\n",
              "      <th>3</th>\n",
              "      <td>3</td>\n",
              "      <td>15 Civilians Killed In Single US Airstrike Hav...</td>\n",
              "      <td>Jessica Purkiss</td>\n",
              "      <td>Videos 15 Civilians Killed In Single US Airstr...</td>\n",
              "      <td>1</td>\n",
              "    </tr>\n",
              "    <tr>\n",
              "      <th>4</th>\n",
              "      <td>4</td>\n",
              "      <td>Iranian woman jailed for fictional unpublished...</td>\n",
              "      <td>Howard Portnoy</td>\n",
              "      <td>Print \\nAn Iranian woman has been sentenced to...</td>\n",
              "      <td>1</td>\n",
              "    </tr>\n",
              "  </tbody>\n",
              "</table>\n",
              "</div>\n",
              "    <div class=\"colab-df-buttons\">\n",
              "\n",
              "  <div class=\"colab-df-container\">\n",
              "    <button class=\"colab-df-convert\" onclick=\"convertToInteractive('df-9bd42357-579d-4949-a5e3-dbc658f889c7')\"\n",
              "            title=\"Convert this dataframe to an interactive table.\"\n",
              "            style=\"display:none;\">\n",
              "\n",
              "  <svg xmlns=\"http://www.w3.org/2000/svg\" height=\"24px\" viewBox=\"0 -960 960 960\">\n",
              "    <path d=\"M120-120v-720h720v720H120Zm60-500h600v-160H180v160Zm220 220h160v-160H400v160Zm0 220h160v-160H400v160ZM180-400h160v-160H180v160Zm440 0h160v-160H620v160ZM180-180h160v-160H180v160Zm440 0h160v-160H620v160Z\"/>\n",
              "  </svg>\n",
              "    </button>\n",
              "\n",
              "  <style>\n",
              "    .colab-df-container {\n",
              "      display:flex;\n",
              "      gap: 12px;\n",
              "    }\n",
              "\n",
              "    .colab-df-convert {\n",
              "      background-color: #E8F0FE;\n",
              "      border: none;\n",
              "      border-radius: 50%;\n",
              "      cursor: pointer;\n",
              "      display: none;\n",
              "      fill: #1967D2;\n",
              "      height: 32px;\n",
              "      padding: 0 0 0 0;\n",
              "      width: 32px;\n",
              "    }\n",
              "\n",
              "    .colab-df-convert:hover {\n",
              "      background-color: #E2EBFA;\n",
              "      box-shadow: 0px 1px 2px rgba(60, 64, 67, 0.3), 0px 1px 3px 1px rgba(60, 64, 67, 0.15);\n",
              "      fill: #174EA6;\n",
              "    }\n",
              "\n",
              "    .colab-df-buttons div {\n",
              "      margin-bottom: 4px;\n",
              "    }\n",
              "\n",
              "    [theme=dark] .colab-df-convert {\n",
              "      background-color: #3B4455;\n",
              "      fill: #D2E3FC;\n",
              "    }\n",
              "\n",
              "    [theme=dark] .colab-df-convert:hover {\n",
              "      background-color: #434B5C;\n",
              "      box-shadow: 0px 1px 3px 1px rgba(0, 0, 0, 0.15);\n",
              "      filter: drop-shadow(0px 1px 2px rgba(0, 0, 0, 0.3));\n",
              "      fill: #FFFFFF;\n",
              "    }\n",
              "  </style>\n",
              "\n",
              "    <script>\n",
              "      const buttonEl =\n",
              "        document.querySelector('#df-9bd42357-579d-4949-a5e3-dbc658f889c7 button.colab-df-convert');\n",
              "      buttonEl.style.display =\n",
              "        google.colab.kernel.accessAllowed ? 'block' : 'none';\n",
              "\n",
              "      async function convertToInteractive(key) {\n",
              "        const element = document.querySelector('#df-9bd42357-579d-4949-a5e3-dbc658f889c7');\n",
              "        const dataTable =\n",
              "          await google.colab.kernel.invokeFunction('convertToInteractive',\n",
              "                                                    [key], {});\n",
              "        if (!dataTable) return;\n",
              "\n",
              "        const docLinkHtml = 'Like what you see? Visit the ' +\n",
              "          '<a target=\"_blank\" href=https://colab.research.google.com/notebooks/data_table.ipynb>data table notebook</a>'\n",
              "          + ' to learn more about interactive tables.';\n",
              "        element.innerHTML = '';\n",
              "        dataTable['output_type'] = 'display_data';\n",
              "        await google.colab.output.renderOutput(dataTable, element);\n",
              "        const docLink = document.createElement('div');\n",
              "        docLink.innerHTML = docLinkHtml;\n",
              "        element.appendChild(docLink);\n",
              "      }\n",
              "    </script>\n",
              "  </div>\n",
              "\n",
              "\n",
              "<div id=\"df-6972441c-738c-469d-9334-d64573d713fe\">\n",
              "  <button class=\"colab-df-quickchart\" onclick=\"quickchart('df-6972441c-738c-469d-9334-d64573d713fe')\"\n",
              "            title=\"Suggest charts.\"\n",
              "            style=\"display:none;\">\n",
              "\n",
              "<svg xmlns=\"http://www.w3.org/2000/svg\" height=\"24px\"viewBox=\"0 0 24 24\"\n",
              "     width=\"24px\">\n",
              "    <g>\n",
              "        <path d=\"M19 3H5c-1.1 0-2 .9-2 2v14c0 1.1.9 2 2 2h14c1.1 0 2-.9 2-2V5c0-1.1-.9-2-2-2zM9 17H7v-7h2v7zm4 0h-2V7h2v10zm4 0h-2v-4h2v4z\"/>\n",
              "    </g>\n",
              "</svg>\n",
              "  </button>\n",
              "\n",
              "<style>\n",
              "  .colab-df-quickchart {\n",
              "    background-color: #E8F0FE;\n",
              "    border: none;\n",
              "    border-radius: 50%;\n",
              "    cursor: pointer;\n",
              "    display: none;\n",
              "    fill: #1967D2;\n",
              "    height: 32px;\n",
              "    padding: 0 0 0 0;\n",
              "    width: 32px;\n",
              "  }\n",
              "\n",
              "  .colab-df-quickchart:hover {\n",
              "    background-color: #E2EBFA;\n",
              "    box-shadow: 0px 1px 2px rgba(60, 64, 67, 0.3), 0px 1px 3px 1px rgba(60, 64, 67, 0.15);\n",
              "    fill: #174EA6;\n",
              "  }\n",
              "\n",
              "  [theme=dark] .colab-df-quickchart {\n",
              "    background-color: #3B4455;\n",
              "    fill: #D2E3FC;\n",
              "  }\n",
              "\n",
              "  [theme=dark] .colab-df-quickchart:hover {\n",
              "    background-color: #434B5C;\n",
              "    box-shadow: 0px 1px 3px 1px rgba(0, 0, 0, 0.15);\n",
              "    filter: drop-shadow(0px 1px 2px rgba(0, 0, 0, 0.3));\n",
              "    fill: #FFFFFF;\n",
              "  }\n",
              "</style>\n",
              "\n",
              "  <script>\n",
              "    async function quickchart(key) {\n",
              "      const charts = await google.colab.kernel.invokeFunction(\n",
              "          'suggestCharts', [key], {});\n",
              "    }\n",
              "    (() => {\n",
              "      let quickchartButtonEl =\n",
              "        document.querySelector('#df-6972441c-738c-469d-9334-d64573d713fe button');\n",
              "      quickchartButtonEl.style.display =\n",
              "        google.colab.kernel.accessAllowed ? 'block' : 'none';\n",
              "    })();\n",
              "  </script>\n",
              "</div>\n",
              "    </div>\n",
              "  </div>\n"
            ]
          },
          "metadata": {},
          "execution_count": 111
        }
      ],
      "source": [
        "data.head()"
      ]
    },
    {
      "cell_type": "code",
      "execution_count": 112,
      "metadata": {
        "colab": {
          "base_uri": "https://localhost:8080/",
          "height": 275
        },
        "id": "6IY8nTdBSBP8",
        "outputId": "bee7292f-1a58-44e1-c0fd-82b2b4a265ee"
      },
      "outputs": [
        {
          "output_type": "execute_result",
          "data": {
            "text/plain": [
              "          id                                              title  \\\n",
              "20795  20795  Rapper T.I.: Trump a ’Poster Child For White S...   \n",
              "20796  20796  N.F.L. Playoffs: Schedule, Matchups and Odds -...   \n",
              "20797  20797  Macy’s Is Said to Receive Takeover Approach by...   \n",
              "20798  20798  NATO, Russia To Hold Parallel Exercises In Bal...   \n",
              "20799  20799                          What Keeps the F-35 Alive   \n",
              "\n",
              "                                          author  \\\n",
              "20795                              Jerome Hudson   \n",
              "20796                           Benjamin Hoffman   \n",
              "20797  Michael J. de la Merced and Rachel Abrams   \n",
              "20798                                Alex Ansary   \n",
              "20799                              David Swanson   \n",
              "\n",
              "                                                    text  label  \n",
              "20795  Rapper T. I. unloaded on black celebrities who...      0  \n",
              "20796  When the Green Bay Packers lost to the Washing...      0  \n",
              "20797  The Macy’s of today grew from the union of sev...      0  \n",
              "20798  NATO, Russia To Hold Parallel Exercises In Bal...      1  \n",
              "20799    David Swanson is an author, activist, journa...      1  "
            ],
            "text/html": [
              "\n",
              "  <div id=\"df-122b802e-6b2f-4752-9d94-5cbc24683d3e\" class=\"colab-df-container\">\n",
              "    <div>\n",
              "<style scoped>\n",
              "    .dataframe tbody tr th:only-of-type {\n",
              "        vertical-align: middle;\n",
              "    }\n",
              "\n",
              "    .dataframe tbody tr th {\n",
              "        vertical-align: top;\n",
              "    }\n",
              "\n",
              "    .dataframe thead th {\n",
              "        text-align: right;\n",
              "    }\n",
              "</style>\n",
              "<table border=\"1\" class=\"dataframe\">\n",
              "  <thead>\n",
              "    <tr style=\"text-align: right;\">\n",
              "      <th></th>\n",
              "      <th>id</th>\n",
              "      <th>title</th>\n",
              "      <th>author</th>\n",
              "      <th>text</th>\n",
              "      <th>label</th>\n",
              "    </tr>\n",
              "  </thead>\n",
              "  <tbody>\n",
              "    <tr>\n",
              "      <th>20795</th>\n",
              "      <td>20795</td>\n",
              "      <td>Rapper T.I.: Trump a ’Poster Child For White S...</td>\n",
              "      <td>Jerome Hudson</td>\n",
              "      <td>Rapper T. I. unloaded on black celebrities who...</td>\n",
              "      <td>0</td>\n",
              "    </tr>\n",
              "    <tr>\n",
              "      <th>20796</th>\n",
              "      <td>20796</td>\n",
              "      <td>N.F.L. Playoffs: Schedule, Matchups and Odds -...</td>\n",
              "      <td>Benjamin Hoffman</td>\n",
              "      <td>When the Green Bay Packers lost to the Washing...</td>\n",
              "      <td>0</td>\n",
              "    </tr>\n",
              "    <tr>\n",
              "      <th>20797</th>\n",
              "      <td>20797</td>\n",
              "      <td>Macy’s Is Said to Receive Takeover Approach by...</td>\n",
              "      <td>Michael J. de la Merced and Rachel Abrams</td>\n",
              "      <td>The Macy’s of today grew from the union of sev...</td>\n",
              "      <td>0</td>\n",
              "    </tr>\n",
              "    <tr>\n",
              "      <th>20798</th>\n",
              "      <td>20798</td>\n",
              "      <td>NATO, Russia To Hold Parallel Exercises In Bal...</td>\n",
              "      <td>Alex Ansary</td>\n",
              "      <td>NATO, Russia To Hold Parallel Exercises In Bal...</td>\n",
              "      <td>1</td>\n",
              "    </tr>\n",
              "    <tr>\n",
              "      <th>20799</th>\n",
              "      <td>20799</td>\n",
              "      <td>What Keeps the F-35 Alive</td>\n",
              "      <td>David Swanson</td>\n",
              "      <td>David Swanson is an author, activist, journa...</td>\n",
              "      <td>1</td>\n",
              "    </tr>\n",
              "  </tbody>\n",
              "</table>\n",
              "</div>\n",
              "    <div class=\"colab-df-buttons\">\n",
              "\n",
              "  <div class=\"colab-df-container\">\n",
              "    <button class=\"colab-df-convert\" onclick=\"convertToInteractive('df-122b802e-6b2f-4752-9d94-5cbc24683d3e')\"\n",
              "            title=\"Convert this dataframe to an interactive table.\"\n",
              "            style=\"display:none;\">\n",
              "\n",
              "  <svg xmlns=\"http://www.w3.org/2000/svg\" height=\"24px\" viewBox=\"0 -960 960 960\">\n",
              "    <path d=\"M120-120v-720h720v720H120Zm60-500h600v-160H180v160Zm220 220h160v-160H400v160Zm0 220h160v-160H400v160ZM180-400h160v-160H180v160Zm440 0h160v-160H620v160ZM180-180h160v-160H180v160Zm440 0h160v-160H620v160Z\"/>\n",
              "  </svg>\n",
              "    </button>\n",
              "\n",
              "  <style>\n",
              "    .colab-df-container {\n",
              "      display:flex;\n",
              "      gap: 12px;\n",
              "    }\n",
              "\n",
              "    .colab-df-convert {\n",
              "      background-color: #E8F0FE;\n",
              "      border: none;\n",
              "      border-radius: 50%;\n",
              "      cursor: pointer;\n",
              "      display: none;\n",
              "      fill: #1967D2;\n",
              "      height: 32px;\n",
              "      padding: 0 0 0 0;\n",
              "      width: 32px;\n",
              "    }\n",
              "\n",
              "    .colab-df-convert:hover {\n",
              "      background-color: #E2EBFA;\n",
              "      box-shadow: 0px 1px 2px rgba(60, 64, 67, 0.3), 0px 1px 3px 1px rgba(60, 64, 67, 0.15);\n",
              "      fill: #174EA6;\n",
              "    }\n",
              "\n",
              "    .colab-df-buttons div {\n",
              "      margin-bottom: 4px;\n",
              "    }\n",
              "\n",
              "    [theme=dark] .colab-df-convert {\n",
              "      background-color: #3B4455;\n",
              "      fill: #D2E3FC;\n",
              "    }\n",
              "\n",
              "    [theme=dark] .colab-df-convert:hover {\n",
              "      background-color: #434B5C;\n",
              "      box-shadow: 0px 1px 3px 1px rgba(0, 0, 0, 0.15);\n",
              "      filter: drop-shadow(0px 1px 2px rgba(0, 0, 0, 0.3));\n",
              "      fill: #FFFFFF;\n",
              "    }\n",
              "  </style>\n",
              "\n",
              "    <script>\n",
              "      const buttonEl =\n",
              "        document.querySelector('#df-122b802e-6b2f-4752-9d94-5cbc24683d3e button.colab-df-convert');\n",
              "      buttonEl.style.display =\n",
              "        google.colab.kernel.accessAllowed ? 'block' : 'none';\n",
              "\n",
              "      async function convertToInteractive(key) {\n",
              "        const element = document.querySelector('#df-122b802e-6b2f-4752-9d94-5cbc24683d3e');\n",
              "        const dataTable =\n",
              "          await google.colab.kernel.invokeFunction('convertToInteractive',\n",
              "                                                    [key], {});\n",
              "        if (!dataTable) return;\n",
              "\n",
              "        const docLinkHtml = 'Like what you see? Visit the ' +\n",
              "          '<a target=\"_blank\" href=https://colab.research.google.com/notebooks/data_table.ipynb>data table notebook</a>'\n",
              "          + ' to learn more about interactive tables.';\n",
              "        element.innerHTML = '';\n",
              "        dataTable['output_type'] = 'display_data';\n",
              "        await google.colab.output.renderOutput(dataTable, element);\n",
              "        const docLink = document.createElement('div');\n",
              "        docLink.innerHTML = docLinkHtml;\n",
              "        element.appendChild(docLink);\n",
              "      }\n",
              "    </script>\n",
              "  </div>\n",
              "\n",
              "\n",
              "<div id=\"df-d48c2514-ad29-4ebf-adaf-1dcb94e65b8f\">\n",
              "  <button class=\"colab-df-quickchart\" onclick=\"quickchart('df-d48c2514-ad29-4ebf-adaf-1dcb94e65b8f')\"\n",
              "            title=\"Suggest charts.\"\n",
              "            style=\"display:none;\">\n",
              "\n",
              "<svg xmlns=\"http://www.w3.org/2000/svg\" height=\"24px\"viewBox=\"0 0 24 24\"\n",
              "     width=\"24px\">\n",
              "    <g>\n",
              "        <path d=\"M19 3H5c-1.1 0-2 .9-2 2v14c0 1.1.9 2 2 2h14c1.1 0 2-.9 2-2V5c0-1.1-.9-2-2-2zM9 17H7v-7h2v7zm4 0h-2V7h2v10zm4 0h-2v-4h2v4z\"/>\n",
              "    </g>\n",
              "</svg>\n",
              "  </button>\n",
              "\n",
              "<style>\n",
              "  .colab-df-quickchart {\n",
              "    background-color: #E8F0FE;\n",
              "    border: none;\n",
              "    border-radius: 50%;\n",
              "    cursor: pointer;\n",
              "    display: none;\n",
              "    fill: #1967D2;\n",
              "    height: 32px;\n",
              "    padding: 0 0 0 0;\n",
              "    width: 32px;\n",
              "  }\n",
              "\n",
              "  .colab-df-quickchart:hover {\n",
              "    background-color: #E2EBFA;\n",
              "    box-shadow: 0px 1px 2px rgba(60, 64, 67, 0.3), 0px 1px 3px 1px rgba(60, 64, 67, 0.15);\n",
              "    fill: #174EA6;\n",
              "  }\n",
              "\n",
              "  [theme=dark] .colab-df-quickchart {\n",
              "    background-color: #3B4455;\n",
              "    fill: #D2E3FC;\n",
              "  }\n",
              "\n",
              "  [theme=dark] .colab-df-quickchart:hover {\n",
              "    background-color: #434B5C;\n",
              "    box-shadow: 0px 1px 3px 1px rgba(0, 0, 0, 0.15);\n",
              "    filter: drop-shadow(0px 1px 2px rgba(0, 0, 0, 0.3));\n",
              "    fill: #FFFFFF;\n",
              "  }\n",
              "</style>\n",
              "\n",
              "  <script>\n",
              "    async function quickchart(key) {\n",
              "      const charts = await google.colab.kernel.invokeFunction(\n",
              "          'suggestCharts', [key], {});\n",
              "    }\n",
              "    (() => {\n",
              "      let quickchartButtonEl =\n",
              "        document.querySelector('#df-d48c2514-ad29-4ebf-adaf-1dcb94e65b8f button');\n",
              "      quickchartButtonEl.style.display =\n",
              "        google.colab.kernel.accessAllowed ? 'block' : 'none';\n",
              "    })();\n",
              "  </script>\n",
              "</div>\n",
              "    </div>\n",
              "  </div>\n"
            ]
          },
          "metadata": {},
          "execution_count": 112
        }
      ],
      "source": [
        "data.tail()"
      ]
    },
    {
      "cell_type": "code",
      "execution_count": 113,
      "metadata": {
        "colab": {
          "base_uri": "https://localhost:8080/"
        },
        "id": "MEWdlMD9SxDJ",
        "outputId": "5b7bbe74-2532-4501-a551-aa7b795aea63"
      },
      "outputs": [
        {
          "output_type": "execute_result",
          "data": {
            "text/plain": [
              "(20800, 5)"
            ]
          },
          "metadata": {},
          "execution_count": 113
        }
      ],
      "source": [
        "data.shape"
      ]
    },
    {
      "cell_type": "code",
      "execution_count": 114,
      "metadata": {
        "colab": {
          "base_uri": "https://localhost:8080/"
        },
        "id": "ewZb_estSCS-",
        "outputId": "013b2a49-4a62-4ae9-c709-d9a9d7903868"
      },
      "outputs": [
        {
          "output_type": "execute_result",
          "data": {
            "text/plain": [
              "id           0\n",
              "title      558\n",
              "author    1957\n",
              "text        39\n",
              "label        0\n",
              "dtype: int64"
            ]
          },
          "metadata": {},
          "execution_count": 114
        }
      ],
      "source": [
        "data.isnull().sum()"
      ]
    },
    {
      "cell_type": "code",
      "execution_count": 115,
      "metadata": {
        "id": "dulZFq1US2PM"
      },
      "outputs": [],
      "source": [
        "data=data.fillna('')"
      ]
    },
    {
      "cell_type": "code",
      "execution_count": 116,
      "metadata": {
        "id": "cl7nEJrHTaDm"
      },
      "outputs": [],
      "source": [
        "data[\"title+author\"]=data[\"title\"]+' '+data[\"author\"]"
      ]
    },
    {
      "cell_type": "code",
      "execution_count": 117,
      "metadata": {
        "colab": {
          "base_uri": "https://localhost:8080/"
        },
        "id": "HbXzsSWuTmzm",
        "outputId": "2b235871-37d4-48a7-92ef-e1db74d629c6"
      },
      "outputs": [
        {
          "output_type": "execute_result",
          "data": {
            "text/plain": [
              "0        House Dem Aide: We Didn’t Even See Comey’s Let...\n",
              "1        FLYNN: Hillary Clinton, Big Woman on Campus - ...\n",
              "2        Why the Truth Might Get You Fired Consortiumne...\n",
              "3        15 Civilians Killed In Single US Airstrike Hav...\n",
              "4        Iranian woman jailed for fictional unpublished...\n",
              "                               ...                        \n",
              "20795    Rapper T.I.: Trump a ’Poster Child For White S...\n",
              "20796    N.F.L. Playoffs: Schedule, Matchups and Odds -...\n",
              "20797    Macy’s Is Said to Receive Takeover Approach by...\n",
              "20798    NATO, Russia To Hold Parallel Exercises In Bal...\n",
              "20799              What Keeps the F-35 Alive David Swanson\n",
              "Name: title+author, Length: 20800, dtype: object"
            ]
          },
          "metadata": {},
          "execution_count": 117
        }
      ],
      "source": [
        "data[\"title+author\"]"
      ]
    },
    {
      "cell_type": "code",
      "execution_count": 118,
      "metadata": {
        "id": "HgLD6CjuT0eM"
      },
      "outputs": [],
      "source": [
        "from nltk.stem.porter import  PorterStemmer\n",
        "import re\n",
        "from sklearn.feature_extraction.text import TfidfVectorizer"
      ]
    },
    {
      "cell_type": "code",
      "execution_count": 119,
      "metadata": {
        "id": "hRpnNdkwqHZ_"
      },
      "outputs": [],
      "source": [
        "#finding root words\n",
        "porter_stemming=PorterStemmer()"
      ]
    },
    {
      "cell_type": "code",
      "execution_count": 120,
      "metadata": {
        "id": "MuGnc-RyqVd9"
      },
      "outputs": [],
      "source": [
        "def stemming_process(content):\n",
        "  stem_content=re.sub('[^a-zA-Z]',' ',content)\n",
        "  stem_content=stem_content.lower()\n",
        "  stem_content=stem_content.split()\n",
        "  stem_content=[porter_stemming.stem(word) for word in stem_content if not\n",
        "                 word in stopwords.words('english')]\n",
        "  stem_content=' '.join(stem_content)\n",
        "  return stem_content"
      ]
    },
    {
      "cell_type": "code",
      "execution_count": 121,
      "metadata": {
        "id": "pP1TDX5-rUZo"
      },
      "outputs": [],
      "source": [
        "data[\"title+author\"]=data[\"title+author\"].apply(stemming_process)"
      ]
    },
    {
      "cell_type": "code",
      "execution_count": 122,
      "metadata": {
        "id": "abTBU6lb50O2",
        "colab": {
          "base_uri": "https://localhost:8080/"
        },
        "outputId": "d6a2cdb5-51d3-415e-ed4a-ee23aeb370c3"
      },
      "outputs": [
        {
          "output_type": "execute_result",
          "data": {
            "text/plain": [
              "0        hous dem aid even see comey letter jason chaff...\n",
              "1        flynn hillari clinton big woman campu breitbar...\n",
              "2                   truth might get fire consortiumnew com\n",
              "3        civilian kill singl us airstrik identifi jessi...\n",
              "4        iranian woman jail fiction unpublish stori wom...\n",
              "                               ...                        \n",
              "20795    rapper trump poster child white supremaci jero...\n",
              "20796    n f l playoff schedul matchup odd new york tim...\n",
              "20797    maci said receiv takeov approach hudson bay ne...\n",
              "20798    nato russia hold parallel exercis balkan alex ...\n",
              "20799                            keep f aliv david swanson\n",
              "Name: title+author, Length: 20800, dtype: object"
            ]
          },
          "metadata": {},
          "execution_count": 122
        }
      ],
      "source": [
        "data[\"title+author\"]"
      ]
    },
    {
      "cell_type": "code",
      "execution_count": 123,
      "metadata": {
        "id": "YwTQIfl-6Lc1"
      },
      "outputs": [],
      "source": [
        "#Devide the input features and output labels\n",
        "x=data[\"title+author\"]\n",
        "y=data[\"label\"]"
      ]
    },
    {
      "cell_type": "code",
      "execution_count": 124,
      "metadata": {
        "id": "NkpnWTWt6hAy",
        "colab": {
          "base_uri": "https://localhost:8080/"
        },
        "outputId": "6e7a357b-29cd-4b75-e175-d3165d325c09"
      },
      "outputs": [
        {
          "output_type": "execute_result",
          "data": {
            "text/plain": [
              "0        hous dem aid even see comey letter jason chaff...\n",
              "1        flynn hillari clinton big woman campu breitbar...\n",
              "2                   truth might get fire consortiumnew com\n",
              "3        civilian kill singl us airstrik identifi jessi...\n",
              "4        iranian woman jail fiction unpublish stori wom...\n",
              "                               ...                        \n",
              "20795    rapper trump poster child white supremaci jero...\n",
              "20796    n f l playoff schedul matchup odd new york tim...\n",
              "20797    maci said receiv takeov approach hudson bay ne...\n",
              "20798    nato russia hold parallel exercis balkan alex ...\n",
              "20799                            keep f aliv david swanson\n",
              "Name: title+author, Length: 20800, dtype: object"
            ]
          },
          "metadata": {},
          "execution_count": 124
        }
      ],
      "source": [
        "x"
      ]
    },
    {
      "cell_type": "code",
      "execution_count": 125,
      "metadata": {
        "id": "ZamwTc2T6ha-",
        "colab": {
          "base_uri": "https://localhost:8080/"
        },
        "outputId": "8ed504f1-5e96-47a9-ee79-075a0e478ff9"
      },
      "outputs": [
        {
          "output_type": "execute_result",
          "data": {
            "text/plain": [
              "0        1\n",
              "1        0\n",
              "2        1\n",
              "3        1\n",
              "4        1\n",
              "        ..\n",
              "20795    0\n",
              "20796    0\n",
              "20797    0\n",
              "20798    1\n",
              "20799    1\n",
              "Name: label, Length: 20800, dtype: int64"
            ]
          },
          "metadata": {},
          "execution_count": 125
        }
      ],
      "source": [
        "y"
      ]
    },
    {
      "cell_type": "code",
      "execution_count": 126,
      "metadata": {
        "id": "QP4exCoc6h4F"
      },
      "outputs": [],
      "source": [
        "#converting text into numerical\n",
        "vectorizer=TfidfVectorizer().fit(x)\n",
        "x=vectorizer.transform(x)"
      ]
    },
    {
      "cell_type": "code",
      "execution_count": 127,
      "metadata": {
        "id": "ErJ_Z4Dj7brP",
        "colab": {
          "base_uri": "https://localhost:8080/"
        },
        "outputId": "e2268b60-db07-4fbe-d615-c9a37eb9aeb3"
      },
      "outputs": [
        {
          "output_type": "stream",
          "name": "stdout",
          "text": [
            "  (0, 15686)\t0.28485063562728646\n",
            "  (0, 13473)\t0.2565896679337957\n",
            "  (0, 8909)\t0.3635963806326075\n",
            "  (0, 8630)\t0.29212514087043684\n",
            "  (0, 7692)\t0.24785219520671603\n",
            "  (0, 7005)\t0.21874169089359144\n",
            "  (0, 4973)\t0.233316966909351\n",
            "  (0, 3792)\t0.2705332480845492\n",
            "  (0, 3600)\t0.3598939188262559\n",
            "  (0, 2959)\t0.2468450128533713\n",
            "  (0, 2483)\t0.3676519686797209\n",
            "  (0, 267)\t0.27010124977708766\n",
            "  (1, 16799)\t0.30071745655510157\n",
            "  (1, 6816)\t0.1904660198296849\n",
            "  (1, 5503)\t0.7143299355715573\n",
            "  (1, 3568)\t0.26373768806048464\n",
            "  (1, 2813)\t0.19094574062359204\n",
            "  (1, 2223)\t0.3827320386859759\n",
            "  (1, 1894)\t0.15521974226349364\n",
            "  (1, 1497)\t0.2939891562094648\n",
            "  (2, 15611)\t0.41544962664721613\n",
            "  (2, 9620)\t0.49351492943649944\n",
            "  (2, 5968)\t0.3474613386728292\n",
            "  (2, 5389)\t0.3866530551182615\n",
            "  (2, 3103)\t0.46097489583229645\n",
            "  :\t:\n",
            "  (20797, 13122)\t0.2482526352197606\n",
            "  (20797, 12344)\t0.27263457663336677\n",
            "  (20797, 12138)\t0.24778257724396507\n",
            "  (20797, 10306)\t0.08038079000566466\n",
            "  (20797, 9588)\t0.174553480255222\n",
            "  (20797, 9518)\t0.2954204003420313\n",
            "  (20797, 8988)\t0.36160868928090795\n",
            "  (20797, 8364)\t0.22322585870464118\n",
            "  (20797, 7042)\t0.21799048897828688\n",
            "  (20797, 3643)\t0.21155500613623743\n",
            "  (20797, 1287)\t0.33538056804139865\n",
            "  (20797, 699)\t0.30685846079762347\n",
            "  (20797, 43)\t0.29710241860700626\n",
            "  (20798, 13046)\t0.22363267488270608\n",
            "  (20798, 11052)\t0.4460515589182236\n",
            "  (20798, 10177)\t0.3192496370187028\n",
            "  (20798, 6889)\t0.32496285694299426\n",
            "  (20798, 5032)\t0.4083701450239529\n",
            "  (20798, 1125)\t0.4460515589182236\n",
            "  (20798, 588)\t0.3112141524638974\n",
            "  (20798, 350)\t0.28446937819072576\n",
            "  (20799, 14852)\t0.5677577267055112\n",
            "  (20799, 8036)\t0.45983893273780013\n",
            "  (20799, 3623)\t0.37927626273066584\n",
            "  (20799, 377)\t0.5677577267055112\n"
          ]
        }
      ],
      "source": [
        "print(x)"
      ]
    },
    {
      "cell_type": "code",
      "execution_count": 128,
      "metadata": {
        "id": "6ZzjDQEZ7cR1"
      },
      "outputs": [],
      "source": [
        "#splittting for train and test\n",
        "x_train,x_test,y_train,y_test=train_test_split(x,y,test_size=0.2,stratify=y)"
      ]
    },
    {
      "cell_type": "code",
      "execution_count": 129,
      "metadata": {
        "id": "9GzLisEJaCuL",
        "colab": {
          "base_uri": "https://localhost:8080/"
        },
        "outputId": "f51d98bb-ed18-46ed-e9f4-9444a923810f"
      },
      "outputs": [
        {
          "output_type": "stream",
          "name": "stdout",
          "text": [
            "  (0, 16996)\t0.10006888917593318\n",
            "  (0, 11790)\t0.27842047026947336\n",
            "  (0, 10306)\t0.09672858590794622\n",
            "  (0, 6816)\t0.17328201706670016\n",
            "  (0, 6289)\t0.3103485948161084\n",
            "  (0, 5941)\t0.3103485948161084\n",
            "  (0, 4625)\t0.1962897341004896\n",
            "  (0, 4133)\t0.4667148238036012\n",
            "  (0, 3632)\t0.22950144583339852\n",
            "  (0, 3062)\t0.36420249980927033\n",
            "  (0, 2813)\t0.17371845705148803\n",
            "  (0, 681)\t0.3229611574758951\n",
            "  (0, 291)\t0.3229611574758951\n",
            "  (1, 16348)\t0.27484531743241825\n",
            "  (1, 13438)\t0.3436921641001472\n",
            "  (1, 9884)\t0.409658978947716\n",
            "  (1, 9329)\t0.3079722524030112\n",
            "  (1, 7005)\t0.28506729566236855\n",
            "  (1, 6658)\t0.32503354017214786\n",
            "  (1, 2294)\t0.34717470521654137\n",
            "  (1, 1894)\t0.1719764708686744\n",
            "  (1, 469)\t0.2752648933096995\n",
            "  (1, 111)\t0.361775139116039\n",
            "  (2, 15686)\t0.4305120325284147\n",
            "  (2, 15582)\t0.17589479373120398\n",
            "  :\t:\n",
            "  (16636, 1436)\t0.30944795736721775\n",
            "  (16637, 13766)\t0.5808711079204887\n",
            "  (16637, 5238)\t0.537078088319386\n",
            "  (16637, 235)\t0.6116664802246546\n",
            "  (16638, 16217)\t0.36575636248905974\n",
            "  (16638, 13745)\t0.2619305351838207\n",
            "  (16638, 11871)\t0.30797157377159856\n",
            "  (16638, 10433)\t0.30526031317823293\n",
            "  (16638, 10306)\t0.08635990231321779\n",
            "  (16638, 10282)\t0.3794352515923404\n",
            "  (16638, 9848)\t0.3438440839765272\n",
            "  (16638, 8485)\t0.2677481342535184\n",
            "  (16638, 6087)\t0.36032779836781326\n",
            "  (16638, 1269)\t0.3720231798518432\n",
            "  (16639, 16348)\t0.2384922377331664\n",
            "  (16639, 15896)\t0.2990771039839672\n",
            "  (16639, 15295)\t0.10375890925943415\n",
            "  (16639, 11259)\t0.26404970674154843\n",
            "  (16639, 10558)\t0.37362945283477106\n",
            "  (16639, 4954)\t0.2990771039839672\n",
            "  (16639, 4625)\t0.20742905047178212\n",
            "  (16639, 3809)\t0.25628090060068937\n",
            "  (16639, 2977)\t0.415756102869786\n",
            "  (16639, 2010)\t0.38487075781666114\n",
            "  (16639, 789)\t0.3383116153657294\n"
          ]
        }
      ],
      "source": [
        "print(x_train)"
      ]
    },
    {
      "cell_type": "code",
      "source": [
        "print(x_test)"
      ],
      "metadata": {
        "colab": {
          "base_uri": "https://localhost:8080/"
        },
        "id": "uV2BlKmqpzG3",
        "outputId": "464ba78f-bafd-4b3e-9c0e-60aac8d7219e"
      },
      "execution_count": 130,
      "outputs": [
        {
          "output_type": "stream",
          "name": "stdout",
          "text": [
            "  (0, 16868)\t0.2761831625109083\n",
            "  (0, 14444)\t0.20003175514203989\n",
            "  (0, 14389)\t0.25486164455285304\n",
            "  (0, 14037)\t0.3259793128964708\n",
            "  (0, 13460)\t0.2857327460886012\n",
            "  (0, 12181)\t0.2767558193518655\n",
            "  (0, 8565)\t0.27451111254121346\n",
            "  (0, 7044)\t0.3630879163469752\n",
            "  (0, 4928)\t0.3547566785615074\n",
            "  (0, 2184)\t0.24885252729193574\n",
            "  (0, 1331)\t0.27035595132193363\n",
            "  (0, 234)\t0.29358949913545246\n",
            "  (1, 15582)\t0.1302356650696384\n",
            "  (1, 11897)\t0.32228762215856355\n",
            "  (1, 10254)\t0.2737866664939124\n",
            "  (1, 10043)\t0.3285414134871024\n",
            "  (1, 8565)\t0.3148429330868978\n",
            "  (1, 7236)\t0.27071355297200744\n",
            "  (1, 4250)\t0.19693933029590432\n",
            "  (1, 3470)\t0.4027351695633435\n",
            "  (1, 2219)\t0.25074983628878356\n",
            "  (1, 1894)\t0.1476720317381719\n",
            "  (1, 1075)\t0.488052901606641\n",
            "  (2, 520)\t1.0\n",
            "  (3, 17020)\t0.3289537883004476\n",
            "  :\t:\n",
            "  (4157, 1894)\t0.1973415686118792\n",
            "  (4158, 16191)\t0.37253491212305634\n",
            "  (4158, 15019)\t0.27433432386168527\n",
            "  (4158, 14555)\t0.6117849378639192\n",
            "  (4158, 9588)\t0.19101324108415657\n",
            "  (4158, 8485)\t0.27271030088568937\n",
            "  (4158, 6337)\t0.27962755582357535\n",
            "  (4158, 5193)\t0.3198248683996083\n",
            "  (4158, 3396)\t0.34690218347875557\n",
            "  (4159, 16996)\t0.09838162335172786\n",
            "  (4159, 15582)\t0.122441751579244\n",
            "  (4159, 15295)\t0.09653133459383184\n",
            "  (4159, 13270)\t0.20232543714748413\n",
            "  (4159, 12741)\t0.26833398292055444\n",
            "  (4159, 12714)\t0.3194623989764508\n",
            "  (4159, 11189)\t0.3194623989764508\n",
            "  (4159, 10315)\t0.19596769942739953\n",
            "  (4159, 10306)\t0.09509764108013617\n",
            "  (4159, 9427)\t0.23164458921506328\n",
            "  (4159, 9205)\t0.2576513869519471\n",
            "  (4159, 8529)\t0.27197021226883494\n",
            "  (4159, 8421)\t0.3030004181136068\n",
            "  (4159, 7205)\t0.259437207028628\n",
            "  (4159, 5503)\t0.3194623989764508\n",
            "  (4159, 1986)\t0.38252885579258067\n"
          ]
        }
      ]
    },
    {
      "cell_type": "code",
      "execution_count": 131,
      "metadata": {
        "id": "xLsLPXjdZ3yo",
        "colab": {
          "base_uri": "https://localhost:8080/"
        },
        "outputId": "b9a80d17-2d46-466b-8ec5-25e695b5acf8"
      },
      "outputs": [
        {
          "output_type": "stream",
          "name": "stdout",
          "text": [
            "4993     1\n",
            "6563     0\n",
            "2814     1\n",
            "16803    1\n",
            "10427    0\n",
            "        ..\n",
            "19930    0\n",
            "15611    1\n",
            "6329     0\n",
            "18473    1\n",
            "17170    0\n",
            "Name: label, Length: 4160, dtype: int64\n"
          ]
        }
      ],
      "source": [
        "print(y_test)"
      ]
    },
    {
      "cell_type": "code",
      "execution_count": null,
      "metadata": {
        "id": "D34xQbnO7x0x"
      },
      "outputs": [],
      "source": [
        "#Fitting and training the model\n",
        "model=LogisticRegression()\n",
        "model.fit(x_train,y_train)"
      ]
    },
    {
      "cell_type": "code",
      "execution_count": 133,
      "metadata": {
        "id": "lcf1HFRw9TcM",
        "colab": {
          "base_uri": "https://localhost:8080/"
        },
        "outputId": "0688474a-12a1-4b40-bc5f-e1662ba75987"
      },
      "outputs": [
        {
          "output_type": "execute_result",
          "data": {
            "text/plain": [
              "0.9870192307692308"
            ]
          },
          "metadata": {},
          "execution_count": 133
        }
      ],
      "source": [
        "#Training accuracy score\n",
        "x_train_pred=model.predict(x_train)\n",
        "acc_train=accuracy_score(x_train_pred,y_train)\n",
        "acc_train"
      ]
    },
    {
      "cell_type": "code",
      "execution_count": 134,
      "metadata": {
        "id": "05Gudv-V9tAf",
        "colab": {
          "base_uri": "https://localhost:8080/"
        },
        "outputId": "23bd45fe-ee11-4f00-971a-f198db7bd107"
      },
      "outputs": [
        {
          "output_type": "execute_result",
          "data": {
            "text/plain": [
              "0.9771634615384616"
            ]
          },
          "metadata": {},
          "execution_count": 134
        }
      ],
      "source": [
        "#Testing accuracy score\n",
        "x_test_pred=model.predict(x_test)\n",
        "acc_test=accuracy_score(x_test_pred,y_test)\n",
        "acc_test"
      ]
    },
    {
      "cell_type": "code",
      "execution_count": 135,
      "metadata": {
        "id": "GQ5eW0y0YtJf"
      },
      "outputs": [],
      "source": [
        "# 97.8125% Which is the very good accuracy score"
      ]
    },
    {
      "cell_type": "code",
      "source": [
        "if acc_test<acc_train:\n",
        "  print(\"Your model is performing very Well\")\n",
        "else:\n",
        "  print(\"Your model is over trained\")"
      ],
      "metadata": {
        "colab": {
          "base_uri": "https://localhost:8080/"
        },
        "id": "rB7ouoiKgkaH",
        "outputId": "5cbf02ec-defb-436a-b136-fbb7a2286ac2"
      },
      "execution_count": 136,
      "outputs": [
        {
          "output_type": "stream",
          "name": "stdout",
          "text": [
            "Your model is performing very Well\n"
          ]
        }
      ]
    },
    {
      "cell_type": "code",
      "source": [
        "#prediction of values\n",
        "new=x_test[0]\n",
        "pred=model.predict(new)\n",
        "if pred[0]==0:\n",
        "  print(\"The news is real\")\n",
        "else:\n",
        "  print(\"The news is fake\")\n",
        "print(\"We can verify by seeing foollowing output\")\n",
        "print(\"Predicted output is:\",pred[0])"
      ],
      "metadata": {
        "colab": {
          "base_uri": "https://localhost:8080/"
        },
        "id": "tdtgL8G1gokx",
        "outputId": "ec9ff124-cfb7-4d71-caf8-f7d176d3fa1d"
      },
      "execution_count": 140,
      "outputs": [
        {
          "output_type": "stream",
          "name": "stdout",
          "text": [
            "The news is fake\n",
            "We can verify by seeing foollowing output\n",
            "Predicted output is: 1\n"
          ]
        }
      ]
    },
    {
      "cell_type": "code",
      "source": [
        "y_test"
      ],
      "metadata": {
        "colab": {
          "base_uri": "https://localhost:8080/"
        },
        "id": "HvTlT2Ppo4Bp",
        "outputId": "2f4f83c1-55d5-43ec-d7f0-9b141d357ad6"
      },
      "execution_count": 138,
      "outputs": [
        {
          "output_type": "execute_result",
          "data": {
            "text/plain": [
              "4993     1\n",
              "6563     0\n",
              "2814     1\n",
              "16803    1\n",
              "10427    0\n",
              "        ..\n",
              "19930    0\n",
              "15611    1\n",
              "6329     0\n",
              "18473    1\n",
              "17170    0\n",
              "Name: label, Length: 4160, dtype: int64"
            ]
          },
          "metadata": {},
          "execution_count": 138
        }
      ]
    }
  ],
  "metadata": {
    "colab": {
      "provenance": [],
      "authorship_tag": "ABX9TyOwN09rBspAbyvB7YE4EOas",
      "include_colab_link": true
    },
    "kernelspec": {
      "display_name": "Python 3",
      "name": "python3"
    },
    "language_info": {
      "name": "python"
    }
  },
  "nbformat": 4,
  "nbformat_minor": 0
}